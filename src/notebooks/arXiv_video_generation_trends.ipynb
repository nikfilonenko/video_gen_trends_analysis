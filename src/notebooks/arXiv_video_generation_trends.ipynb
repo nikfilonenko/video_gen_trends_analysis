{
 "cells": [
  {
   "cell_type": "markdown",
   "source": [
    "# Выполнил: Филоненко Никита Дмитриевич\n",
    "\n",
    "-----"
   ],
   "metadata": {
    "collapsed": false
   },
   "id": "fc4b781cec399d0b"
  },
  {
   "cell_type": "markdown",
   "source": [
    "QR-код (ссылка на репозиторий с проектом)\n",
    "\n",
    "[Решение на GitHub](https://github.com/nikfilonenko/video_gen_trends_analysis)\n",
    "\n",
    "![](../../assets/qr-code.png)"
   ],
   "metadata": {
    "collapsed": false
   },
   "id": "ccec38a280fcaa72"
  },
  {
   "cell_type": "markdown",
   "source": [
    "# Оглавление\n",
    "\n",
    "[Описание тестового задания](#0.1)\n",
    "1. [Сбор данных через arXiv API](#01)\n",
    "2. [EDA](#02)\n",
    "    - [Получение общего представления о данных](#02.1)\n",
    "    - [Предобработка текста для анализа](#02.2)\n",
    "3."
   ],
   "metadata": {
    "collapsed": false
   },
   "id": "e730f6ad4a27b8da"
  },
  {
   "cell_type": "markdown",
   "source": [
    "\n",
    "## Описание тестового задания <a name=\"0.1\"></a>\n",
    "\n",
    "Задача - выделить основные тренды в видео генерации в 2024 году.\n",
    "\n",
    "1. Получить метаданные статей с arXiv (любым способом) по теме “видео генерация”, выпущенных в 2024 году.\n",
    "    \n",
    "2. Написать код для выделения основных тем/трендов.\n",
    "    \n",
    "- Будет плюсом, если каждая тема будет представлена связным словосочетанием/предложением\n",
    "\n",
    "3. Представить визуализацию результатов.\n",
    "    \n"
   ],
   "metadata": {
    "collapsed": false
   },
   "id": "89e96e23aa4dd2cd"
  },
  {
   "cell_type": "markdown",
   "source": [
    "# Решение"
   ],
   "metadata": {
    "collapsed": false
   },
   "id": "f0da5da385085dad"
  },
  {
   "cell_type": "markdown",
   "source": [
    "### Импортируем необходимые модули "
   ],
   "metadata": {
    "collapsed": false
   },
   "id": "6f55a218475f9d1d"
  },
  {
   "cell_type": "code",
   "execution_count": 1,
   "id": "initial_id",
   "metadata": {
    "collapsed": true,
    "ExecuteTime": {
     "end_time": "2025-03-28T10:46:15.313246800Z",
     "start_time": "2025-03-28T10:46:15.216885700Z"
    }
   },
   "outputs": [],
   "source": [
    "import pandas as pd\n",
    "import numpy as np\n",
    "import arxiv\n",
    "import matplotlib.pyplot as plt\n",
    "import seaborn as sns"
   ]
  },
  {
   "cell_type": "markdown",
   "source": [
    "для получения метаданных статей из arXiv будем использовать его API, вместо написания парсера\n",
    "\n",
    "поскольку:\n",
    "\n",
    "- у arXiv нет жестких ограничений, платных тарифов\n",
    "\n",
    "- API предоставляет доступ ко всему необходимому для выполнения данного задания\n",
    "\n",
    "- лимит в 10 000 результатов на запрос – этого более чем достаточно\n",
    "\n",
    "- соответственно нет жесткого rate limit, если не спамить слишком часто\n",
    "\n",
    "- использование API избавит от лишней предобработки текста (например html теги)\n",
    "\n"
   ],
   "metadata": {
    "collapsed": false
   },
   "id": "49865790e1e6574a"
  },
  {
   "cell_type": "markdown",
   "source": [
    "## 1. Сбор данных через arXiv API <a name=\"01\"></a>"
   ],
   "metadata": {
    "collapsed": false
   },
   "id": "5bee0b4f75422dab"
  },
  {
   "cell_type": "markdown",
   "source": [
    "будем использовать библиотеку arxiv, которая предоставляет удобный высокоуровневый интерфейс для работы с API arXiv"
   ],
   "metadata": {
    "collapsed": false
   },
   "id": "299371dc12cad8d9"
  },
  {
   "cell_type": "code",
   "outputs": [],
   "source": [
    "query = (\n",
    "    'all:video generation OR all:video synthesis OR '\n",
    "    'all:diffusion video OR all:GAN video OR '\n",
    "    'all:text-to-video OR all:image-to-video OR '\n",
    "    'all:scene generation '\n",
    "    'AND submittedDate:[20240101 TO 20241231]'\n",
    ")\n",
    "\n",
    "search = arxiv.Search(\n",
    "    query=query,\n",
    "    max_results=150000,\n",
    "    sort_by=arxiv.SortCriterion.Relevance,\n",
    "    sort_order=arxiv.SortOrder.Ascending\n",
    ")"
   ],
   "metadata": {
    "collapsed": false,
    "ExecuteTime": {
     "end_time": "2025-03-27T21:58:48.053392200Z",
     "start_time": "2025-03-27T21:58:48.036233600Z"
    }
   },
   "id": "ac1563f1997cf59",
   "execution_count": 174
  },
  {
   "cell_type": "markdown",
   "source": [
    "выполним ленивую загрузку метаданных, создав генератор через `client.results(search)`, благодаря чему с экономим на оперативной памяти и времени начальной загрузки данных"
   ],
   "metadata": {
    "collapsed": false
   },
   "id": "18239277276eee9c"
  },
  {
   "cell_type": "markdown",
   "source": [
    "также, учитывая тот факт, что arXiv API не позволяет фильтровать запросы по конкретному году (в нашем случае — 2024), при формировании набора данных дополнительно проверим соответствие года публикации, чтобы гарантировать включение только статей, опубликованных за 2024 год"
   ],
   "metadata": {
    "collapsed": false
   },
   "id": "715bc27c216987f"
  },
  {
   "cell_type": "code",
   "outputs": [
    {
     "name": "stdout",
     "output_type": "stream",
     "text": [
      "Достигнут предел доступных результатов\n"
     ]
    }
   ],
   "source": [
    "client = arxiv.Client(\n",
    "    page_size=500,\n",
    "    delay_seconds=5,\n",
    "    num_retries=5\n",
    ")\n",
    "\n",
    "papers = []\n",
    "\n",
    "current_year = 2024\n",
    "\n",
    "try:\n",
    "    for result in client.results(search):\n",
    "        if result.published.year == current_year:\n",
    "            papers.append({\n",
    "                \"title\": result.title,\n",
    "                \"abstract\": result.summary,\n",
    "                \"published\": result.published,\n",
    "                \"authors\": [a.name for a in result.authors],\n",
    "                \"url\": result.entry_id\n",
    "            })\n",
    "except arxiv.UnexpectedEmptyPageError:\n",
    "    print(\"Достигнут предел доступных результатов\")\n",
    "\n",
    "df = pd.DataFrame(papers)"
   ],
   "metadata": {
    "collapsed": false,
    "ExecuteTime": {
     "end_time": "2025-03-27T21:59:44.328078600Z",
     "start_time": "2025-03-27T21:58:48.918883600Z"
    }
   },
   "id": "e0d687b94bf27c83",
   "execution_count": 175
  },
  {
   "cell_type": "code",
   "outputs": [
    {
     "name": "stdout",
     "output_type": "stream",
     "text": [
      "Сколько всего статей 2024 года получено: \u001B[32m2100\u001B[0m\n"
     ]
    }
   ],
   "source": [
    "from colorama import Fore, Style\n",
    "\n",
    "print(f\"Сколько всего статей 2024 года получено: {Fore.GREEN}{len(df)}{Style.RESET_ALL}\")"
   ],
   "metadata": {
    "collapsed": false,
    "ExecuteTime": {
     "end_time": "2025-03-27T22:33:53.332764700Z",
     "start_time": "2025-03-27T22:33:53.312985900Z"
    }
   },
   "id": "a4c5fa71331a6cee",
   "execution_count": 203
  },
  {
   "cell_type": "markdown",
   "source": [
    "Итак, собранные имеют следующую структуру:\n",
    "\n",
    "- `title` - заголовок статьи\n",
    "- `abstract` - аннотация статьи\n",
    "- `published` - полная дата и время публикации статьи\n",
    "- `authors` - списки авторов статей\n",
    "- `url` - ссылка на статью в arXiv "
   ],
   "metadata": {
    "collapsed": false
   },
   "id": "d9832151ea1cab3"
  },
  {
   "cell_type": "code",
   "outputs": [
    {
     "data": {
      "text/plain": "                                                  title  \\\n0     Video to Video Generative Adversarial Network ...   \n1     Contrastive Sequential-Diffusion Learning: Non...   \n2     ReCapture: Generative Video Camera Controls fo...   \n3     StreamingT2V: Consistent, Dynamic, and Extenda...   \n4     FreeLong: Training-Free Long Video Generation ...   \n...                                                 ...   \n2095  Recording dynamic facial micro-expressions wit...   \n2096  FLAASH: Flow-Attention Adaptive Semantic Hiera...   \n2097  MSEG-VCUQ: Multimodal SEGmentation with Enhanc...   \n2098  Principles of Visual Tokens for Efficient Vide...   \n2099  Self-supervised Video Instance Segmentation Ca...   \n\n                                               abstract  \\\n0     The development of sophisticated models for vi...   \n1     Generated video scenes for action-centric sequ...   \n2     Recently, breakthroughs in video modeling have...   \n3     Text-to-video diffusion models enable the gene...   \n4     Video diffusion models have made substantial p...   \n...                                                 ...   \n2095  We present an approach of utilizing a multi-ca...   \n2096  The proliferation of tobacco-related content o...   \n2097  High-speed video (HSV) phase detection (PD) se...   \n2098  Video understanding has made huge strides in r...   \n2099  Tracking geographic entities from historical m...   \n\n                     published  \\\n0    2024-10-28 01:35:10+00:00   \n1    2024-07-16 15:03:05+00:00   \n2    2024-11-07 18:59:45+00:00   \n3    2024-03-21 18:27:29+00:00   \n4    2024-07-29 11:52:07+00:00   \n...                        ...   \n2095 2024-10-02 19:30:21+00:00   \n2096 2024-10-25 17:20:22+00:00   \n2097 2024-11-12 00:54:26+00:00   \n2098 2024-11-20 14:09:47+00:00   \n2099 2024-11-26 13:31:51+00:00   \n\n                                                authors  \\\n0                 [Yintai Ma, Diego Klabjan, Jean Utke]   \n1     [Vasco Ramos, Yonatan Bitton, Michal Yarom, Id...   \n2     [David Junhao Zhang, Roni Paiss, Shiran Zada, ...   \n3     [Roberto Henschel, Levon Khachatryan, Daniil H...   \n4          [Yu Lu, Yuanzhi Liang, Linchao Zhu, Yi Yang]   \n...                                                 ...   \n2095  [Lucas Kreiss, Weiheng Tang, Ramana Balla, Xi ...   \n2096  [Naga VS Raviteja Chappa, Page Daniel Dobbs, B...   \n2097  [Chika Maduabuchi, Ericmoore Jossou, Matteo Bu...   \n2098  [Xinyue Hao, Gen Li, Shreyank N Gowda, Robert ...   \n2099  [Xue Xia, Randall Balestriero, Tao Zhang, Lore...   \n\n                                    url  \n0     http://arxiv.org/abs/2410.20657v1  \n1     http://arxiv.org/abs/2407.11814v3  \n2     http://arxiv.org/abs/2411.05003v1  \n3     http://arxiv.org/abs/2403.14773v1  \n4     http://arxiv.org/abs/2407.19918v1  \n...                                 ...  \n2095  http://arxiv.org/abs/2410.01973v1  \n2096  http://arxiv.org/abs/2410.19896v2  \n2097  http://arxiv.org/abs/2411.07463v4  \n2098  http://arxiv.org/abs/2411.13626v2  \n2099  http://arxiv.org/abs/2411.17425v1  \n\n[2100 rows x 5 columns]",
      "text/html": "<div>\n<style scoped>\n    .dataframe tbody tr th:only-of-type {\n        vertical-align: middle;\n    }\n\n    .dataframe tbody tr th {\n        vertical-align: top;\n    }\n\n    .dataframe thead th {\n        text-align: right;\n    }\n</style>\n<table border=\"1\" class=\"dataframe\">\n  <thead>\n    <tr style=\"text-align: right;\">\n      <th></th>\n      <th>title</th>\n      <th>abstract</th>\n      <th>published</th>\n      <th>authors</th>\n      <th>url</th>\n    </tr>\n  </thead>\n  <tbody>\n    <tr>\n      <th>0</th>\n      <td>Video to Video Generative Adversarial Network ...</td>\n      <td>The development of sophisticated models for vi...</td>\n      <td>2024-10-28 01:35:10+00:00</td>\n      <td>[Yintai Ma, Diego Klabjan, Jean Utke]</td>\n      <td>http://arxiv.org/abs/2410.20657v1</td>\n    </tr>\n    <tr>\n      <th>1</th>\n      <td>Contrastive Sequential-Diffusion Learning: Non...</td>\n      <td>Generated video scenes for action-centric sequ...</td>\n      <td>2024-07-16 15:03:05+00:00</td>\n      <td>[Vasco Ramos, Yonatan Bitton, Michal Yarom, Id...</td>\n      <td>http://arxiv.org/abs/2407.11814v3</td>\n    </tr>\n    <tr>\n      <th>2</th>\n      <td>ReCapture: Generative Video Camera Controls fo...</td>\n      <td>Recently, breakthroughs in video modeling have...</td>\n      <td>2024-11-07 18:59:45+00:00</td>\n      <td>[David Junhao Zhang, Roni Paiss, Shiran Zada, ...</td>\n      <td>http://arxiv.org/abs/2411.05003v1</td>\n    </tr>\n    <tr>\n      <th>3</th>\n      <td>StreamingT2V: Consistent, Dynamic, and Extenda...</td>\n      <td>Text-to-video diffusion models enable the gene...</td>\n      <td>2024-03-21 18:27:29+00:00</td>\n      <td>[Roberto Henschel, Levon Khachatryan, Daniil H...</td>\n      <td>http://arxiv.org/abs/2403.14773v1</td>\n    </tr>\n    <tr>\n      <th>4</th>\n      <td>FreeLong: Training-Free Long Video Generation ...</td>\n      <td>Video diffusion models have made substantial p...</td>\n      <td>2024-07-29 11:52:07+00:00</td>\n      <td>[Yu Lu, Yuanzhi Liang, Linchao Zhu, Yi Yang]</td>\n      <td>http://arxiv.org/abs/2407.19918v1</td>\n    </tr>\n    <tr>\n      <th>...</th>\n      <td>...</td>\n      <td>...</td>\n      <td>...</td>\n      <td>...</td>\n      <td>...</td>\n    </tr>\n    <tr>\n      <th>2095</th>\n      <td>Recording dynamic facial micro-expressions wit...</td>\n      <td>We present an approach of utilizing a multi-ca...</td>\n      <td>2024-10-02 19:30:21+00:00</td>\n      <td>[Lucas Kreiss, Weiheng Tang, Ramana Balla, Xi ...</td>\n      <td>http://arxiv.org/abs/2410.01973v1</td>\n    </tr>\n    <tr>\n      <th>2096</th>\n      <td>FLAASH: Flow-Attention Adaptive Semantic Hiera...</td>\n      <td>The proliferation of tobacco-related content o...</td>\n      <td>2024-10-25 17:20:22+00:00</td>\n      <td>[Naga VS Raviteja Chappa, Page Daniel Dobbs, B...</td>\n      <td>http://arxiv.org/abs/2410.19896v2</td>\n    </tr>\n    <tr>\n      <th>2097</th>\n      <td>MSEG-VCUQ: Multimodal SEGmentation with Enhanc...</td>\n      <td>High-speed video (HSV) phase detection (PD) se...</td>\n      <td>2024-11-12 00:54:26+00:00</td>\n      <td>[Chika Maduabuchi, Ericmoore Jossou, Matteo Bu...</td>\n      <td>http://arxiv.org/abs/2411.07463v4</td>\n    </tr>\n    <tr>\n      <th>2098</th>\n      <td>Principles of Visual Tokens for Efficient Vide...</td>\n      <td>Video understanding has made huge strides in r...</td>\n      <td>2024-11-20 14:09:47+00:00</td>\n      <td>[Xinyue Hao, Gen Li, Shreyank N Gowda, Robert ...</td>\n      <td>http://arxiv.org/abs/2411.13626v2</td>\n    </tr>\n    <tr>\n      <th>2099</th>\n      <td>Self-supervised Video Instance Segmentation Ca...</td>\n      <td>Tracking geographic entities from historical m...</td>\n      <td>2024-11-26 13:31:51+00:00</td>\n      <td>[Xue Xia, Randall Balestriero, Tao Zhang, Lore...</td>\n      <td>http://arxiv.org/abs/2411.17425v1</td>\n    </tr>\n  </tbody>\n</table>\n<p>2100 rows × 5 columns</p>\n</div>"
     },
     "execution_count": 137,
     "metadata": {},
     "output_type": "execute_result"
    }
   ],
   "source": [
    "df"
   ],
   "metadata": {
    "collapsed": false,
    "ExecuteTime": {
     "end_time": "2025-03-27T18:30:14.765641100Z",
     "start_time": "2025-03-27T18:30:14.738636700Z"
    }
   },
   "id": "b9bab68999aef083",
   "execution_count": 137
  },
  {
   "cell_type": "code",
   "outputs": [],
   "source": [
    "df.to_csv(\"data/data_arxiv_video_generation_2024.csv\", index=False)"
   ],
   "metadata": {
    "collapsed": false,
    "ExecuteTime": {
     "end_time": "2025-03-27T18:31:02.759565300Z",
     "start_time": "2025-03-27T18:31:02.722723500Z"
    }
   },
   "id": "633936c69dd9931f",
   "execution_count": 148
  },
  {
   "cell_type": "markdown",
   "source": [
    "## 2. EDA <a name=\"02\"></a>"
   ],
   "metadata": {
    "collapsed": false
   },
   "id": "d6446110c0919bee"
  },
  {
   "cell_type": "markdown",
   "source": [
    "#### 2.1 Получение общего представления собранных данных"
   ],
   "metadata": {
    "collapsed": false
   },
   "id": "7db3a979cffbbe2c"
  },
  {
   "cell_type": "code",
   "outputs": [
    {
     "data": {
      "text/plain": "(2100, 5)"
     },
     "execution_count": 18,
     "metadata": {},
     "output_type": "execute_result"
    }
   ],
   "source": [
    "df = pd.read_csv(\n",
    "    '../../data/data_arxiv_video_generation_2024.csv', \n",
    "    sep=',',\n",
    "    engine='python',\n",
    "    encoding='utf'\n",
    ")\n",
    "\n",
    "df.shape"
   ],
   "metadata": {
    "collapsed": false,
    "ExecuteTime": {
     "end_time": "2025-03-28T11:04:22.101677100Z",
     "start_time": "2025-03-28T11:04:22.066348500Z"
    }
   },
   "id": "998292ac6913a380",
   "execution_count": 18
  },
  {
   "cell_type": "code",
   "outputs": [
    {
     "data": {
      "text/plain": "                                               title  \\\n0  Video to Video Generative Adversarial Network ...   \n1  Contrastive Sequential-Diffusion Learning: Non...   \n2  ReCapture: Generative Video Camera Controls fo...   \n3  StreamingT2V: Consistent, Dynamic, and Extenda...   \n4  FreeLong: Training-Free Long Video Generation ...   \n\n                                            abstract  \\\n0  The development of sophisticated models for vi...   \n1  Generated video scenes for action-centric sequ...   \n2  Recently, breakthroughs in video modeling have...   \n3  Text-to-video diffusion models enable the gene...   \n4  Video diffusion models have made substantial p...   \n\n                   published  \\\n0  2024-10-28 01:35:10+00:00   \n1  2024-07-16 15:03:05+00:00   \n2  2024-11-07 18:59:45+00:00   \n3  2024-03-21 18:27:29+00:00   \n4  2024-07-29 11:52:07+00:00   \n\n                                             authors  \\\n0        ['Yintai Ma', 'Diego Klabjan', 'Jean Utke']   \n1  ['Vasco Ramos', 'Yonatan Bitton', 'Michal Yaro...   \n2  ['David Junhao Zhang', 'Roni Paiss', 'Shiran Z...   \n3  ['Roberto Henschel', 'Levon Khachatryan', 'Dan...   \n4  ['Yu Lu', 'Yuanzhi Liang', 'Linchao Zhu', 'Yi ...   \n\n                                 url  \n0  http://arxiv.org/abs/2410.20657v1  \n1  http://arxiv.org/abs/2407.11814v3  \n2  http://arxiv.org/abs/2411.05003v1  \n3  http://arxiv.org/abs/2403.14773v1  \n4  http://arxiv.org/abs/2407.19918v1  ",
      "text/html": "<div>\n<style scoped>\n    .dataframe tbody tr th:only-of-type {\n        vertical-align: middle;\n    }\n\n    .dataframe tbody tr th {\n        vertical-align: top;\n    }\n\n    .dataframe thead th {\n        text-align: right;\n    }\n</style>\n<table border=\"1\" class=\"dataframe\">\n  <thead>\n    <tr style=\"text-align: right;\">\n      <th></th>\n      <th>title</th>\n      <th>abstract</th>\n      <th>published</th>\n      <th>authors</th>\n      <th>url</th>\n    </tr>\n  </thead>\n  <tbody>\n    <tr>\n      <th>0</th>\n      <td>Video to Video Generative Adversarial Network ...</td>\n      <td>The development of sophisticated models for vi...</td>\n      <td>2024-10-28 01:35:10+00:00</td>\n      <td>['Yintai Ma', 'Diego Klabjan', 'Jean Utke']</td>\n      <td>http://arxiv.org/abs/2410.20657v1</td>\n    </tr>\n    <tr>\n      <th>1</th>\n      <td>Contrastive Sequential-Diffusion Learning: Non...</td>\n      <td>Generated video scenes for action-centric sequ...</td>\n      <td>2024-07-16 15:03:05+00:00</td>\n      <td>['Vasco Ramos', 'Yonatan Bitton', 'Michal Yaro...</td>\n      <td>http://arxiv.org/abs/2407.11814v3</td>\n    </tr>\n    <tr>\n      <th>2</th>\n      <td>ReCapture: Generative Video Camera Controls fo...</td>\n      <td>Recently, breakthroughs in video modeling have...</td>\n      <td>2024-11-07 18:59:45+00:00</td>\n      <td>['David Junhao Zhang', 'Roni Paiss', 'Shiran Z...</td>\n      <td>http://arxiv.org/abs/2411.05003v1</td>\n    </tr>\n    <tr>\n      <th>3</th>\n      <td>StreamingT2V: Consistent, Dynamic, and Extenda...</td>\n      <td>Text-to-video diffusion models enable the gene...</td>\n      <td>2024-03-21 18:27:29+00:00</td>\n      <td>['Roberto Henschel', 'Levon Khachatryan', 'Dan...</td>\n      <td>http://arxiv.org/abs/2403.14773v1</td>\n    </tr>\n    <tr>\n      <th>4</th>\n      <td>FreeLong: Training-Free Long Video Generation ...</td>\n      <td>Video diffusion models have made substantial p...</td>\n      <td>2024-07-29 11:52:07+00:00</td>\n      <td>['Yu Lu', 'Yuanzhi Liang', 'Linchao Zhu', 'Yi ...</td>\n      <td>http://arxiv.org/abs/2407.19918v1</td>\n    </tr>\n  </tbody>\n</table>\n</div>"
     },
     "execution_count": 19,
     "metadata": {},
     "output_type": "execute_result"
    }
   ],
   "source": [
    "df.head()"
   ],
   "metadata": {
    "collapsed": false,
    "ExecuteTime": {
     "end_time": "2025-03-28T11:04:22.301115600Z",
     "start_time": "2025-03-28T11:04:22.275505500Z"
    }
   },
   "id": "f17331d6c631a46b",
   "execution_count": 19
  },
  {
   "cell_type": "code",
   "outputs": [
    {
     "name": "stdout",
     "output_type": "stream",
     "text": [
      "<class 'pandas.core.frame.DataFrame'>\n",
      "RangeIndex: 2100 entries, 0 to 2099\n",
      "Data columns (total 5 columns):\n",
      " #   Column     Non-Null Count  Dtype \n",
      "---  ------     --------------  ----- \n",
      " 0   title      2100 non-null   object\n",
      " 1   abstract   2100 non-null   object\n",
      " 2   published  2100 non-null   object\n",
      " 3   authors    2100 non-null   object\n",
      " 4   url        2100 non-null   object\n",
      "dtypes: object(5)\n",
      "memory usage: 82.2+ KB\n"
     ]
    }
   ],
   "source": [
    "df.info()"
   ],
   "metadata": {
    "collapsed": false,
    "ExecuteTime": {
     "end_time": "2025-03-28T11:04:22.938139Z",
     "start_time": "2025-03-28T11:04:22.918454Z"
    }
   },
   "id": "1f85c57ff0e249b1",
   "execution_count": 20
  },
  {
   "cell_type": "markdown",
   "source": [
    "размерность сформированного DataFrame`а: 2100 строк и 5 столбцов\n",
    "\n",
    "- пропуски в данных отсутствуют\n",
    "- тип данных у 5 столбцов - object (строка)\n",
    "\n",
    "необходимо привести published к правильному data type, т.е. к datetime, а также извлечь из него несколько признаков: год и месяц\n",
    "\n",
    "это позволит удобнее и детальнее проанализировать временные тенденции в полученных исследованиях "
   ],
   "metadata": {
    "collapsed": false
   },
   "id": "ea3953e3a02b26c7"
  },
  {
   "cell_type": "code",
   "outputs": [
    {
     "data": {
      "text/plain": "title        object\nabstract     object\npublished    object\nauthors      object\nurl          object\ndtype: object"
     },
     "execution_count": 21,
     "metadata": {},
     "output_type": "execute_result"
    }
   ],
   "source": [
    "df.dtypes"
   ],
   "metadata": {
    "collapsed": false,
    "ExecuteTime": {
     "end_time": "2025-03-28T11:04:24.261265700Z",
     "start_time": "2025-03-28T11:04:24.252411700Z"
    }
   },
   "id": "2ce11b300180a433",
   "execution_count": 21
  },
  {
   "cell_type": "code",
   "outputs": [
    {
     "data": {
      "text/plain": "np.int64(0)"
     },
     "execution_count": 22,
     "metadata": {},
     "output_type": "execute_result"
    }
   ],
   "source": [
    "df.duplicated(keep='first').sum()"
   ],
   "metadata": {
    "collapsed": false,
    "ExecuteTime": {
     "end_time": "2025-03-28T11:04:26.223188400Z",
     "start_time": "2025-03-28T11:04:26.187189700Z"
    }
   },
   "id": "fb2e70af3974473b",
   "execution_count": 22
  },
  {
   "cell_type": "markdown",
   "source": [
    "дубликаты в данных также отсутствуют"
   ],
   "metadata": {
    "collapsed": false
   },
   "id": "a425166e7fcbff6e"
  },
  {
   "cell_type": "markdown",
   "source": [
    "- получим описательные статистики для текстовых данных"
   ],
   "metadata": {
    "collapsed": false
   },
   "id": "3cd0e19e978883b3"
  },
  {
   "cell_type": "code",
   "outputs": [
    {
     "data": {
      "text/plain": "                                                    title  \\\ncount                                                2100   \nunique                                               2100   \ntop     Self-supervised Video Instance Segmentation Ca...   \nfreq                                                    1   \n\n                                                 abstract  \\\ncount                                                2100   \nunique                                               2100   \ntop     Tracking geographic entities from historical m...   \nfreq                                                    1   \n\n                        published  \\\ncount                        2100   \nunique                       2098   \ntop     2024-03-26 17:59:52+00:00   \nfreq                            2   \n\n                                                  authors  \\\ncount                                                2100   \nunique                                               2091   \ntop     ['Dengsheng Chen', 'Jie Hu', 'Xiaoming Wei', '...   \nfreq                                                    2   \n\n                                      url  \ncount                                2100  \nunique                               2100  \ntop     http://arxiv.org/abs/2411.17425v1  \nfreq                                    1  ",
      "text/html": "<div>\n<style scoped>\n    .dataframe tbody tr th:only-of-type {\n        vertical-align: middle;\n    }\n\n    .dataframe tbody tr th {\n        vertical-align: top;\n    }\n\n    .dataframe thead th {\n        text-align: right;\n    }\n</style>\n<table border=\"1\" class=\"dataframe\">\n  <thead>\n    <tr style=\"text-align: right;\">\n      <th></th>\n      <th>title</th>\n      <th>abstract</th>\n      <th>published</th>\n      <th>authors</th>\n      <th>url</th>\n    </tr>\n  </thead>\n  <tbody>\n    <tr>\n      <th>count</th>\n      <td>2100</td>\n      <td>2100</td>\n      <td>2100</td>\n      <td>2100</td>\n      <td>2100</td>\n    </tr>\n    <tr>\n      <th>unique</th>\n      <td>2100</td>\n      <td>2100</td>\n      <td>2098</td>\n      <td>2091</td>\n      <td>2100</td>\n    </tr>\n    <tr>\n      <th>top</th>\n      <td>Self-supervised Video Instance Segmentation Ca...</td>\n      <td>Tracking geographic entities from historical m...</td>\n      <td>2024-03-26 17:59:52+00:00</td>\n      <td>['Dengsheng Chen', 'Jie Hu', 'Xiaoming Wei', '...</td>\n      <td>http://arxiv.org/abs/2411.17425v1</td>\n    </tr>\n    <tr>\n      <th>freq</th>\n      <td>1</td>\n      <td>1</td>\n      <td>2</td>\n      <td>2</td>\n      <td>1</td>\n    </tr>\n  </tbody>\n</table>\n</div>"
     },
     "execution_count": 24,
     "metadata": {},
     "output_type": "execute_result"
    }
   ],
   "source": [
    "df.describe()"
   ],
   "metadata": {
    "collapsed": false,
    "ExecuteTime": {
     "end_time": "2025-03-28T11:05:05.372618400Z",
     "start_time": "2025-03-28T11:05:05.350619800Z"
    }
   },
   "id": "ef34942c8a6f1c4f",
   "execution_count": 24
  },
  {
   "cell_type": "markdown",
   "source": [
    "- `title, abstract, url` - столбцы с полностью уникальными значениями (2100 из 2100)\n",
    "\n",
    "- `published` содержит 2098 уникальных значений (значит некоторые публикации были соверщены в одно время)\n",
    "\n",
    "- `authors` содержит 2091 уникальных значений (небольшое кол-во авторских коллективов выпускало более одной статьи за год по теме, связанной с видео генерацией)\n",
    "\n",
    "\n",
    "в целом информация ожидаемая и предсказуемая"
   ],
   "metadata": {
    "collapsed": false
   },
   "id": "8ec30b489b555d62"
  },
  {
   "cell_type": "code",
   "outputs": [
    {
     "data": {
      "text/plain": "title        0\nabstract     0\npublished    0\nauthors      0\nurl          0\ndtype: int64"
     },
     "execution_count": 25,
     "metadata": {},
     "output_type": "execute_result"
    }
   ],
   "source": [
    "df.isna().sum()"
   ],
   "metadata": {
    "collapsed": false,
    "ExecuteTime": {
     "end_time": "2025-03-28T11:12:01.101141700Z",
     "start_time": "2025-03-28T11:12:01.080143100Z"
    }
   },
   "id": "1fc71c200e00ab59",
   "execution_count": 25
  },
  {
   "cell_type": "code",
   "outputs": [
    {
     "data": {
      "text/plain": "'Video to Video Generative Adversarial Network for Few-shot Learning Based on Policy Gradient'"
     },
     "execution_count": 26,
     "metadata": {},
     "output_type": "execute_result"
    }
   ],
   "source": [
    "df['title'][0]"
   ],
   "metadata": {
    "collapsed": false,
    "ExecuteTime": {
     "end_time": "2025-03-28T11:12:03.794416Z",
     "start_time": "2025-03-28T11:12:03.775767700Z"
    }
   },
   "id": "a0f288dbcaacde7b",
   "execution_count": 26
  },
  {
   "cell_type": "code",
   "outputs": [
    {
     "data": {
      "text/plain": "'The development of sophisticated models for video-to-video synthesis has been\\nfacilitated by recent advances in deep reinforcement learning and generative\\nadversarial networks (GANs). In this paper, we propose RL-V2V-GAN, a new deep\\nneural network approach based on reinforcement learning for unsupervised\\nconditional video-to-video synthesis. While preserving the unique style of the\\nsource video domain, our approach aims to learn a mapping from a source video\\ndomain to a target video domain. We train the model using policy gradient and\\nemploy ConvLSTM layers to capture the spatial and temporal information by\\ndesigning a fine-grained GAN architecture and incorporating spatio-temporal\\nadversarial goals. The adversarial losses aid in content translation while\\npreserving style. Unlike traditional video-to-video synthesis methods requiring\\npaired inputs, our proposed approach is more general because it does not\\nrequire paired inputs. Thus, when dealing with limited videos in the target\\ndomain, i.e., few-shot learning, it is particularly effective. Our experiments\\nshow that RL-V2V-GAN can produce temporally coherent video results. These\\nresults highlight the potential of our approach for further advances in\\nvideo-to-video synthesis.'"
     },
     "execution_count": 27,
     "metadata": {},
     "output_type": "execute_result"
    }
   ],
   "source": [
    "df['abstract'][0]"
   ],
   "metadata": {
    "collapsed": false,
    "ExecuteTime": {
     "end_time": "2025-03-28T11:12:04.103594400Z",
     "start_time": "2025-03-28T11:12:04.097594600Z"
    }
   },
   "id": "5cff98de1b56a4ff",
   "execution_count": 27
  },
  {
   "cell_type": "markdown",
   "source": [
    "как можно заметить данные требуют нормализации, стандартизации и очистки\n",
    "\n",
    "особенно явно заметен символ новой строки `\\n`"
   ],
   "metadata": {
    "collapsed": false
   },
   "id": "6890064a4697d0e1"
  },
  {
   "cell_type": "markdown",
   "source": [
    "- приведем published к необходимому data type, а также создадим на его основе два новых столбца"
   ],
   "metadata": {
    "collapsed": false
   },
   "id": "5a77d93c4779868f"
  },
  {
   "cell_type": "code",
   "outputs": [],
   "source": [
    "df['published'] = pd.to_datetime(df['published'])\n",
    "\n",
    "df['year_publisher'] = df['published'].dt.year\n",
    "df['month_publisher'] = df['published'].dt.month\n",
    "\n",
    "df.drop(columns=['published'], axis=1, inplace=True)"
   ],
   "metadata": {
    "collapsed": false,
    "ExecuteTime": {
     "end_time": "2025-03-28T11:18:33.690768200Z",
     "start_time": "2025-03-28T11:18:33.680642600Z"
    }
   },
   "id": "692292d16d33a901",
   "execution_count": 28
  },
  {
   "cell_type": "code",
   "outputs": [
    {
     "data": {
      "text/plain": "      year_publisher  month_publisher\n0               2024               10\n1               2024                7\n2               2024               11\n3               2024                3\n4               2024                7\n...              ...              ...\n2095            2024               10\n2096            2024               10\n2097            2024               11\n2098            2024               11\n2099            2024               11\n\n[2100 rows x 2 columns]",
      "text/html": "<div>\n<style scoped>\n    .dataframe tbody tr th:only-of-type {\n        vertical-align: middle;\n    }\n\n    .dataframe tbody tr th {\n        vertical-align: top;\n    }\n\n    .dataframe thead th {\n        text-align: right;\n    }\n</style>\n<table border=\"1\" class=\"dataframe\">\n  <thead>\n    <tr style=\"text-align: right;\">\n      <th></th>\n      <th>year_publisher</th>\n      <th>month_publisher</th>\n    </tr>\n  </thead>\n  <tbody>\n    <tr>\n      <th>0</th>\n      <td>2024</td>\n      <td>10</td>\n    </tr>\n    <tr>\n      <th>1</th>\n      <td>2024</td>\n      <td>7</td>\n    </tr>\n    <tr>\n      <th>2</th>\n      <td>2024</td>\n      <td>11</td>\n    </tr>\n    <tr>\n      <th>3</th>\n      <td>2024</td>\n      <td>3</td>\n    </tr>\n    <tr>\n      <th>4</th>\n      <td>2024</td>\n      <td>7</td>\n    </tr>\n    <tr>\n      <th>...</th>\n      <td>...</td>\n      <td>...</td>\n    </tr>\n    <tr>\n      <th>2095</th>\n      <td>2024</td>\n      <td>10</td>\n    </tr>\n    <tr>\n      <th>2096</th>\n      <td>2024</td>\n      <td>10</td>\n    </tr>\n    <tr>\n      <th>2097</th>\n      <td>2024</td>\n      <td>11</td>\n    </tr>\n    <tr>\n      <th>2098</th>\n      <td>2024</td>\n      <td>11</td>\n    </tr>\n    <tr>\n      <th>2099</th>\n      <td>2024</td>\n      <td>11</td>\n    </tr>\n  </tbody>\n</table>\n<p>2100 rows × 2 columns</p>\n</div>"
     },
     "execution_count": 29,
     "metadata": {},
     "output_type": "execute_result"
    }
   ],
   "source": [
    "df[['year_publisher', 'month_publisher']]"
   ],
   "metadata": {
    "collapsed": false,
    "ExecuteTime": {
     "end_time": "2025-03-28T11:18:41.552304500Z",
     "start_time": "2025-03-28T11:18:41.525305800Z"
    }
   },
   "id": "b12328df7c33856d",
   "execution_count": 29
  },
  {
   "cell_type": "markdown",
   "source": [
    "все статьи пренадлежат к одному году"
   ],
   "metadata": {
    "collapsed": false
   },
   "id": "29a4767973bd84f9"
  },
  {
   "cell_type": "code",
   "outputs": [
    {
     "data": {
      "text/plain": "array([2024], dtype=int32)"
     },
     "execution_count": 30,
     "metadata": {},
     "output_type": "execute_result"
    }
   ],
   "source": [
    "df['year_publisher'].unique()"
   ],
   "metadata": {
    "collapsed": false,
    "ExecuteTime": {
     "end_time": "2025-03-28T11:18:45.437246900Z",
     "start_time": "2025-03-28T11:18:45.419258600Z"
    }
   },
   "id": "177b8428ff8a8710",
   "execution_count": 30
  },
  {
   "cell_type": "code",
   "outputs": [
    {
     "data": {
      "text/plain": "month_publisher\n12    309\n11    216\n10    209\n3     204\n6     194\n7     167\n5     163\n9     159\n4     145\n8     134\n1     102\n2      98\nName: count, dtype: int64"
     },
     "execution_count": 31,
     "metadata": {},
     "output_type": "execute_result"
    }
   ],
   "source": [
    "df['month_publisher'].value_counts()"
   ],
   "metadata": {
    "collapsed": false,
    "ExecuteTime": {
     "end_time": "2025-03-28T11:18:46.399331500Z",
     "start_time": "2025-03-28T11:18:46.388928200Z"
    }
   },
   "id": "9071e69620c40835",
   "execution_count": 31
  },
  {
   "cell_type": "markdown",
   "source": [
    "наиболее активно статьи публиковали ближе к концу в 2024 года, но также можно заметить, что в марте тоже была неплохая активность"
   ],
   "metadata": {
    "collapsed": false
   },
   "id": "99fc81eafd0d89ef"
  },
  {
   "cell_type": "code",
   "outputs": [
    {
     "data": {
      "text/plain": "                                                  title  \\\n0     Video to Video Generative Adversarial Network ...   \n1     Contrastive Sequential-Diffusion Learning: Non...   \n2     ReCapture: Generative Video Camera Controls fo...   \n3     StreamingT2V: Consistent, Dynamic, and Extenda...   \n4     FreeLong: Training-Free Long Video Generation ...   \n...                                                 ...   \n2095  Recording dynamic facial micro-expressions wit...   \n2096  FLAASH: Flow-Attention Adaptive Semantic Hiera...   \n2097  MSEG-VCUQ: Multimodal SEGmentation with Enhanc...   \n2098  Principles of Visual Tokens for Efficient Vide...   \n2099  Self-supervised Video Instance Segmentation Ca...   \n\n                                               abstract  \\\n0     The development of sophisticated models for vi...   \n1     Generated video scenes for action-centric sequ...   \n2     Recently, breakthroughs in video modeling have...   \n3     Text-to-video diffusion models enable the gene...   \n4     Video diffusion models have made substantial p...   \n...                                                 ...   \n2095  We present an approach of utilizing a multi-ca...   \n2096  The proliferation of tobacco-related content o...   \n2097  High-speed video (HSV) phase detection (PD) se...   \n2098  Video understanding has made huge strides in r...   \n2099  Tracking geographic entities from historical m...   \n\n                                                authors  \\\n0           ['Yintai Ma', 'Diego Klabjan', 'Jean Utke']   \n1     ['Vasco Ramos', 'Yonatan Bitton', 'Michal Yaro...   \n2     ['David Junhao Zhang', 'Roni Paiss', 'Shiran Z...   \n3     ['Roberto Henschel', 'Levon Khachatryan', 'Dan...   \n4     ['Yu Lu', 'Yuanzhi Liang', 'Linchao Zhu', 'Yi ...   \n...                                                 ...   \n2095  ['Lucas Kreiss', 'Weiheng Tang', 'Ramana Balla...   \n2096  ['Naga VS Raviteja Chappa', 'Page Daniel Dobbs...   \n2097  ['Chika Maduabuchi', 'Ericmoore Jossou', 'Matt...   \n2098  ['Xinyue Hao', 'Gen Li', 'Shreyank N Gowda', '...   \n2099  ['Xue Xia', 'Randall Balestriero', 'Tao Zhang'...   \n\n                                    url  year_publisher  month_publisher  \n0     http://arxiv.org/abs/2410.20657v1            2024               10  \n1     http://arxiv.org/abs/2407.11814v3            2024                7  \n2     http://arxiv.org/abs/2411.05003v1            2024               11  \n3     http://arxiv.org/abs/2403.14773v1            2024                3  \n4     http://arxiv.org/abs/2407.19918v1            2024                7  \n...                                 ...             ...              ...  \n2095  http://arxiv.org/abs/2410.01973v1            2024               10  \n2096  http://arxiv.org/abs/2410.19896v2            2024               10  \n2097  http://arxiv.org/abs/2411.07463v4            2024               11  \n2098  http://arxiv.org/abs/2411.13626v2            2024               11  \n2099  http://arxiv.org/abs/2411.17425v1            2024               11  \n\n[2100 rows x 6 columns]",
      "text/html": "<div>\n<style scoped>\n    .dataframe tbody tr th:only-of-type {\n        vertical-align: middle;\n    }\n\n    .dataframe tbody tr th {\n        vertical-align: top;\n    }\n\n    .dataframe thead th {\n        text-align: right;\n    }\n</style>\n<table border=\"1\" class=\"dataframe\">\n  <thead>\n    <tr style=\"text-align: right;\">\n      <th></th>\n      <th>title</th>\n      <th>abstract</th>\n      <th>authors</th>\n      <th>url</th>\n      <th>year_publisher</th>\n      <th>month_publisher</th>\n    </tr>\n  </thead>\n  <tbody>\n    <tr>\n      <th>0</th>\n      <td>Video to Video Generative Adversarial Network ...</td>\n      <td>The development of sophisticated models for vi...</td>\n      <td>['Yintai Ma', 'Diego Klabjan', 'Jean Utke']</td>\n      <td>http://arxiv.org/abs/2410.20657v1</td>\n      <td>2024</td>\n      <td>10</td>\n    </tr>\n    <tr>\n      <th>1</th>\n      <td>Contrastive Sequential-Diffusion Learning: Non...</td>\n      <td>Generated video scenes for action-centric sequ...</td>\n      <td>['Vasco Ramos', 'Yonatan Bitton', 'Michal Yaro...</td>\n      <td>http://arxiv.org/abs/2407.11814v3</td>\n      <td>2024</td>\n      <td>7</td>\n    </tr>\n    <tr>\n      <th>2</th>\n      <td>ReCapture: Generative Video Camera Controls fo...</td>\n      <td>Recently, breakthroughs in video modeling have...</td>\n      <td>['David Junhao Zhang', 'Roni Paiss', 'Shiran Z...</td>\n      <td>http://arxiv.org/abs/2411.05003v1</td>\n      <td>2024</td>\n      <td>11</td>\n    </tr>\n    <tr>\n      <th>3</th>\n      <td>StreamingT2V: Consistent, Dynamic, and Extenda...</td>\n      <td>Text-to-video diffusion models enable the gene...</td>\n      <td>['Roberto Henschel', 'Levon Khachatryan', 'Dan...</td>\n      <td>http://arxiv.org/abs/2403.14773v1</td>\n      <td>2024</td>\n      <td>3</td>\n    </tr>\n    <tr>\n      <th>4</th>\n      <td>FreeLong: Training-Free Long Video Generation ...</td>\n      <td>Video diffusion models have made substantial p...</td>\n      <td>['Yu Lu', 'Yuanzhi Liang', 'Linchao Zhu', 'Yi ...</td>\n      <td>http://arxiv.org/abs/2407.19918v1</td>\n      <td>2024</td>\n      <td>7</td>\n    </tr>\n    <tr>\n      <th>...</th>\n      <td>...</td>\n      <td>...</td>\n      <td>...</td>\n      <td>...</td>\n      <td>...</td>\n      <td>...</td>\n    </tr>\n    <tr>\n      <th>2095</th>\n      <td>Recording dynamic facial micro-expressions wit...</td>\n      <td>We present an approach of utilizing a multi-ca...</td>\n      <td>['Lucas Kreiss', 'Weiheng Tang', 'Ramana Balla...</td>\n      <td>http://arxiv.org/abs/2410.01973v1</td>\n      <td>2024</td>\n      <td>10</td>\n    </tr>\n    <tr>\n      <th>2096</th>\n      <td>FLAASH: Flow-Attention Adaptive Semantic Hiera...</td>\n      <td>The proliferation of tobacco-related content o...</td>\n      <td>['Naga VS Raviteja Chappa', 'Page Daniel Dobbs...</td>\n      <td>http://arxiv.org/abs/2410.19896v2</td>\n      <td>2024</td>\n      <td>10</td>\n    </tr>\n    <tr>\n      <th>2097</th>\n      <td>MSEG-VCUQ: Multimodal SEGmentation with Enhanc...</td>\n      <td>High-speed video (HSV) phase detection (PD) se...</td>\n      <td>['Chika Maduabuchi', 'Ericmoore Jossou', 'Matt...</td>\n      <td>http://arxiv.org/abs/2411.07463v4</td>\n      <td>2024</td>\n      <td>11</td>\n    </tr>\n    <tr>\n      <th>2098</th>\n      <td>Principles of Visual Tokens for Efficient Vide...</td>\n      <td>Video understanding has made huge strides in r...</td>\n      <td>['Xinyue Hao', 'Gen Li', 'Shreyank N Gowda', '...</td>\n      <td>http://arxiv.org/abs/2411.13626v2</td>\n      <td>2024</td>\n      <td>11</td>\n    </tr>\n    <tr>\n      <th>2099</th>\n      <td>Self-supervised Video Instance Segmentation Ca...</td>\n      <td>Tracking geographic entities from historical m...</td>\n      <td>['Xue Xia', 'Randall Balestriero', 'Tao Zhang'...</td>\n      <td>http://arxiv.org/abs/2411.17425v1</td>\n      <td>2024</td>\n      <td>11</td>\n    </tr>\n  </tbody>\n</table>\n<p>2100 rows × 6 columns</p>\n</div>"
     },
     "execution_count": 32,
     "metadata": {},
     "output_type": "execute_result"
    }
   ],
   "source": [
    "df"
   ],
   "metadata": {
    "collapsed": false,
    "ExecuteTime": {
     "end_time": "2025-03-28T11:21:23.251250600Z",
     "start_time": "2025-03-28T11:21:23.225210900Z"
    }
   },
   "id": "fb63e84a6b87b0a4",
   "execution_count": 32
  },
  {
   "cell_type": "markdown",
   "source": [
    "### 2.3 Подготовка данных для анализа основных тем/трендов видео генерации"
   ],
   "metadata": {
    "collapsed": false
   },
   "id": "25081e5be8c1dfc8"
  },
  {
   "cell_type": "markdown",
   "source": [
    "- сформируем единый столбец, который будет аггрегировать в себе текстовую информацию из title и abstract\n",
    "\n",
    "именно его мы в последствие будем тщательно анализировать"
   ],
   "metadata": {
    "collapsed": false
   },
   "id": "95cb3fb0e8ca6e8d"
  },
  {
   "cell_type": "code",
   "outputs": [
    {
     "data": {
      "text/plain": "'Video to Video Generative Adversarial Network for Few-shot Learning Based on Policy Gradient'"
     },
     "execution_count": 33,
     "metadata": {},
     "output_type": "execute_result"
    }
   ],
   "source": [
    "df['title'][0]"
   ],
   "metadata": {
    "collapsed": false,
    "ExecuteTime": {
     "end_time": "2025-03-28T11:23:46.162237200Z",
     "start_time": "2025-03-28T11:23:46.135237400Z"
    }
   },
   "id": "143ce08676fa0505",
   "execution_count": 33
  },
  {
   "cell_type": "code",
   "outputs": [
    {
     "data": {
      "text/plain": "'video to video generative adversarial network for few-shot learning based on policy gradient the development of sophisticated models for video-to-video synthesis has been\\nfacilitated by recent advances in deep reinforcement learning and generative\\nadversarial networks (gans). in this paper, we propose rl-v2v-gan, a new deep\\nneural network approach based on reinforcement learning for unsupervised\\nconditional video-to-video synthesis. while preserving the unique style of the\\nsource video domain, our approach aims to learn a mapping from a source video\\ndomain to a target video domain. we train the model using policy gradient and\\nemploy convlstm layers to capture the spatial and temporal information by\\ndesigning a fine-grained gan architecture and incorporating spatio-temporal\\nadversarial goals. the adversarial losses aid in content translation while\\npreserving style. unlike traditional video-to-video synthesis methods requiring\\npaired inputs, our proposed approach is more general because it does not\\nrequire paired inputs. thus, when dealing with limited videos in the target\\ndomain, i.e., few-shot learning, it is particularly effective. our experiments\\nshow that rl-v2v-gan can produce temporally coherent video results. these\\nresults highlight the potential of our approach for further advances in\\nvideo-to-video synthesis.'"
     },
     "execution_count": 34,
     "metadata": {},
     "output_type": "execute_result"
    }
   ],
   "source": [
    "df['text'] = df['title'] + ' ' + df['abstract']\n",
    "\n",
    "df.loc[:, 'text'] = df['text'].apply(lambda x: str(x).lower())\n",
    "df['text'][0]"
   ],
   "metadata": {
    "collapsed": false,
    "ExecuteTime": {
     "end_time": "2025-03-28T11:28:57.850743500Z",
     "start_time": "2025-03-28T11:28:57.843700200Z"
    }
   },
   "id": "e99bacde61b6e484",
   "execution_count": 34
  },
  {
   "cell_type": "markdown",
   "source": [
    "обработаем текстовые данные:\n",
    "\n",
    "- к нижнему регистру уже привели\n",
    "- удалим специальные символы и лишние пробелы с помощью регулярки\n",
    "- удалим стоп-слова\n",
    "- выполним токенизацию\n",
    "\n",
    "также применим лемматизацию (для count-based методов, чтобы уменьшить размерность признакового пространства), но для более продвинутых методов тематического моделирования, с BERTopic например, применять ее не будем, чтобы не терять ценной информации в сформированных эмбеддингах\n",
    "\n",
    "также лемматизация может исказить смысл, в особенности в научных текстах, так как там важна точность формулировок\n",
    "\n",
    "поэтому лемматизацию только для count-based методов"
   ],
   "metadata": {
    "collapsed": false
   },
   "id": "6fe50596e6c13571"
  },
  {
   "cell_type": "code",
   "outputs": [
    {
     "name": "stderr",
     "output_type": "stream",
     "text": [
      "[nltk_data] Downloading package punkt to\n",
      "[nltk_data]     C:\\Users\\nikdf\\AppData\\Roaming\\nltk_data...\n",
      "[nltk_data]   Package punkt is already up-to-date!\n",
      "[nltk_data] Downloading package stopwords to\n",
      "[nltk_data]     C:\\Users\\nikdf\\AppData\\Roaming\\nltk_data...\n",
      "[nltk_data]   Package stopwords is already up-to-date!\n",
      "[nltk_data] Downloading package wordnet to\n",
      "[nltk_data]     C:\\Users\\nikdf\\AppData\\Roaming\\nltk_data...\n",
      "[nltk_data]   Package wordnet is already up-to-date!\n"
     ]
    }
   ],
   "source": [
    "import nltk\n",
    "\n",
    "nltk.download('punkt')\n",
    "nltk.download('stopwords')\n",
    "nltk.download('wordnet')\n",
    "\n",
    "from nltk.corpus import stopwords\n",
    "from nltk.tokenize import word_tokenize\n",
    "from nltk.stem import WordNetLemmatizer\n",
    "import re\n",
    "\n",
    "\n",
    "class CustomTextPreprocessor:\n",
    "    def __init__(self, lemmatization=False):\n",
    "        self.lemmatization = lemmatization\n",
    "        self.stop_words = set(stopwords.words('english'))\n",
    "        self.lemmatizer = WordNetLemmatizer()\n",
    "        self.regex_pattern = r'[^\\w\\s]'\n",
    "        \n",
    "    def preprocess(self, text: pd.Series) -> pd.DataFrame:\n",
    "        cleaned_txt = text.apply(lambda x: self._clean_text(x))\n",
    "        \n",
    "        if self.lemmatization:\n",
    "            cleaned_txt = cleaned_txt.apply(lambda x: self._lemmatize_txt(x))\n",
    "        \n",
    "        result_df = pd.DataFrame({\n",
    "            'text': cleaned_txt\n",
    "        })\n",
    "        return result_df\n",
    "    \n",
    "    def _clean_text(self, text: str) -> str:\n",
    "        if not isinstance(text, str):\n",
    "            return \"\"\n",
    "        \n",
    "        text = re.sub(self.regex_pattern, '', text)\n",
    "        \n",
    "        tokens = word_tokenize(\n",
    "            text.lower()\n",
    "        )\n",
    "        \n",
    "        tokens = [word for word in tokens if word not in self.stop_words and word.isalpha()]\n",
    "        return \" \".join(tokens)\n",
    "        \n",
    "    def _lemmatize_txt(self, text: str) -> str:\n",
    "        if not isinstance(text, str) or not text:\n",
    "            return \"\"\n",
    "        \n",
    "        tokens = word_tokenize(text)\n",
    "        lemmas = [self.lemmatizer.lemmatize(token) for token in tokens]\n",
    "        return \" \".join(lemmas)\n",
    "          "
   ],
   "metadata": {
    "collapsed": false,
    "ExecuteTime": {
     "end_time": "2025-03-28T13:53:42.966213400Z",
     "start_time": "2025-03-28T13:53:42.936448400Z"
    }
   },
   "id": "142c09edbf3960c0",
   "execution_count": 36
  },
  {
   "cell_type": "code",
   "outputs": [
    {
     "data": {
      "text/plain": "(2100, 1)"
     },
     "execution_count": 38,
     "metadata": {},
     "output_type": "execute_result"
    }
   ],
   "source": [
    "custom_txt_preprocessor = CustomTextPreprocessor(lemmatization=True)\n",
    "\n",
    "df_lemm = custom_txt_preprocessor.preprocess(df['text'])\n",
    "df_lemm.shape"
   ],
   "metadata": {
    "collapsed": false,
    "ExecuteTime": {
     "end_time": "2025-03-28T13:54:11.548207400Z",
     "start_time": "2025-03-28T13:54:08.020266200Z"
    }
   },
   "id": "dd50ebbcf07489d",
   "execution_count": 38
  },
  {
   "cell_type": "markdown",
   "source": [
    "очищенные данные + лемматизация"
   ],
   "metadata": {
    "collapsed": false
   },
   "id": "46f2a75256898b32"
  },
  {
   "cell_type": "code",
   "outputs": [
    {
     "data": {
      "text/plain": "'video video generative adversarial network fewshot learning based policy gradient development sophisticated model videotovideo synthesis facilitated recent advance deep reinforcement learning generative adversarial network gans paper propose new deep neural network approach based reinforcement learning unsupervised conditional videotovideo synthesis preserving unique style source video domain approach aim learn mapping source video domain target video domain train model using policy gradient employ convlstm layer capture spatial temporal information designing finegrained gan architecture incorporating spatiotemporal adversarial goal adversarial loss aid content translation preserving style unlike traditional videotovideo synthesis method requiring paired input proposed approach general require paired input thus dealing limited video target domain ie fewshot learning particularly effective experiment show produce temporally coherent video result result highlight potential approach advance videotovideo synthesis'"
     },
     "execution_count": 45,
     "metadata": {},
     "output_type": "execute_result"
    }
   ],
   "source": [
    "df_lemm['text'][0]"
   ],
   "metadata": {
    "collapsed": false,
    "ExecuteTime": {
     "end_time": "2025-03-28T13:55:39.660295300Z",
     "start_time": "2025-03-28T13:55:39.631150700Z"
    }
   },
   "id": "4fe3b53adb2c959f",
   "execution_count": 45
  },
  {
   "cell_type": "markdown",
   "source": [
    "## 3. Анализ основных тем/трендов видео генерации в данных <a name=\"03\"></a>"
   ],
   "metadata": {
    "collapsed": false
   },
   "id": "3485075a7abef801"
  },
  {
   "cell_type": "markdown",
   "source": [
    "### 3.1 Анализ с применением классических методов (TF-IDF + LDA/NMF + KMeans)"
   ],
   "metadata": {
    "collapsed": false
   },
   "id": "a61d32c4f1c22b89"
  },
  {
   "cell_type": "code",
   "outputs": [
    {
     "data": {
      "text/plain": "(2100, 406080)"
     },
     "execution_count": 46,
     "metadata": {},
     "output_type": "execute_result"
    }
   ],
   "source": [
    "from sklearn.feature_extraction.text import TfidfVectorizer\n",
    "\n",
    "tfidf_vectorizer = TfidfVectorizer(\n",
    "    ngram_range=(1, 3),\n",
    "    stop_words='english',\n",
    "    use_idf=True,\n",
    "    smooth_idf=True,\n",
    "    sublinear_tf=True\n",
    ")\n",
    "\n",
    "df_lemm_vectorized = tfidf_vectorizer.fit_transform(df_lemm['text'])\n",
    "df_lemm_vectorized.shape"
   ],
   "metadata": {
    "collapsed": false,
    "ExecuteTime": {
     "end_time": "2025-03-28T15:41:04.086681600Z",
     "start_time": "2025-03-28T15:41:03.184640700Z"
    }
   },
   "id": "af5001a6b601b6c4",
   "execution_count": 46
  },
  {
   "cell_type": "code",
   "outputs": [
    {
     "data": {
      "text/plain": "array(['aaro', 'aaro evaluate', 'aaro evaluate composition', ...,\n       'zsvos aim segmenting', 'zsvos proposed', 'zsvos proposed video'],\n      shape=(406080,), dtype=object)"
     },
     "execution_count": 47,
     "metadata": {},
     "output_type": "execute_result"
    }
   ],
   "source": [
    "tfidf_vectorizer.get_feature_names_out()"
   ],
   "metadata": {
    "collapsed": false,
    "ExecuteTime": {
     "end_time": "2025-03-28T15:41:25.649152500Z",
     "start_time": "2025-03-28T15:41:25.451241400Z"
    }
   },
   "id": "cf6c4f31db4c2b52",
   "execution_count": 47
  },
  {
   "cell_type": "markdown",
   "source": [
    "#### 3.1.1 Тематическое моделирование с LDA"
   ],
   "metadata": {
    "collapsed": false
   },
   "id": "da9fd6e754a30d3b"
  },
  {
   "cell_type": "markdown",
   "source": [
    "Определение оптимального количества тем для LDA"
   ],
   "metadata": {
    "collapsed": false
   },
   "id": "21ec5948552b6ac1"
  },
  {
   "cell_type": "code",
   "outputs": [
    {
     "data": {
      "text/plain": "<Figure size 640x480 with 1 Axes>",
      "image/png": "[encoded data removed]"
     },
     "metadata": {},
     "output_type": "display_data"
    }
   ],
   "source": [
    "from sklearn.decomposition import LatentDirichletAllocation, NMF\n",
    "\n",
    "perplexity_scores = []\n",
    "topic_range = range(2, 25)\n",
    "\n",
    "for n_topics in topic_range:\n",
    "    lda = LatentDirichletAllocation(n_components=n_topics, random_state=42)\n",
    "    lda.fit(df_lemm_vectorized)\n",
    "    perplexity_scores.append(lda.perplexity(df_lemm_vectorized))\n",
    "\n",
    "plt.plot(topic_range, perplexity_scores, marker='o')\n",
    "plt.xlabel(\"Number of topics\")\n",
    "plt.ylabel(\"Perplexity\")\n",
    "plt.title(\"Optimal number of topics for LDA\")\n",
    "plt.show()"
   ],
   "metadata": {
    "collapsed": false,
    "ExecuteTime": {
     "end_time": "2025-03-28T16:23:13.996351600Z",
     "start_time": "2025-03-28T16:21:14.485461Z"
    }
   },
   "id": "19d4ae4f088ec8c5",
   "execution_count": 52
  },
  {
   "cell_type": "markdown",
   "source": [
    "на графике видно, что perplexity остаётся низкой до примерно 10–12 тем, а затем начинает резко расти\n",
    "\n",
    "- оптимальное кол-во тем для LDA обычно выбирается перед точкой резкого роста, поэтому выборем 12 тем, это обеспечит хорошую интерпретируемость"
   ],
   "metadata": {
    "collapsed": false
   },
   "id": "89961e029cdabb56"
  },
  {
   "cell_type": "code",
   "outputs": [],
   "source": [
    "lda = LatentDirichletAllocation(\n",
    "    n_components=12, \n",
    "    random_state=42,\n",
    "    learning_method='online',\n",
    "    batch_size=128,\n",
    "    max_iter=20,\n",
    "    evaluate_every=5,\n",
    ")\n",
    "\n",
    "lda_topics = lda.fit_transform(df_lemm_vectorized)"
   ],
   "metadata": {
    "collapsed": false,
    "ExecuteTime": {
     "end_time": "2025-03-28T16:41:44.617703400Z",
     "start_time": "2025-03-28T16:41:00.810415500Z"
    }
   },
   "id": "37f2098583b610f4",
   "execution_count": 53
  },
  {
   "cell_type": "code",
   "outputs": [],
   "source": [],
   "metadata": {
    "collapsed": false
   },
   "id": "e05452559bae19ff"
  }
 ],
 "metadata": {
  "kernelspec": {
   "display_name": "Python 3",
   "language": "python",
   "name": "python3"
  },
  "language_info": {
   "codemirror_mode": {
    "name": "ipython",
    "version": 2
   },
   "file_extension": ".py",
   "mimetype": "text/x-python",
   "name": "python",
   "nbconvert_exporter": "python",
   "pygments_lexer": "ipython2",
   "version": "2.7.6"
  }
 },
 "nbformat": 4,
 "nbformat_minor": 5
}
